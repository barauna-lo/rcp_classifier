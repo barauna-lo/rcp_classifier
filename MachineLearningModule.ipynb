{
  "cells": [
    {
      "cell_type": "markdown",
      "metadata": {
        "id": "ycwRKhjs59Px"
      },
      "source": []
    },
    {
      "cell_type": "markdown",
      "metadata": {
        "id": "VQ2Rg9wV0HIy"
      },
      "source": [
        "# Machine learning module\n"
      ]
    },
    {
      "cell_type": "code",
      "execution_count": null,
      "metadata": {
        "id": "1zgaQfh8GpNI"
      },
      "outputs": [],
      "source": [
        "from sklearn.tree import DecisionTreeClassifier, plot_tree\n",
        "from sklearn.metrics import classification_report, accuracy_score, confusion_matrix\n",
        "from sklearn.model_selection import train_test_split, GridSearchCV\n",
        "from xgboost import XGBClassifier"
      ]
    },
    {
      "cell_type": "code",
      "execution_count": null,
      "metadata": {
        "id": "R773jEaVVLa_"
      },
      "outputs": [],
      "source": [
        "csv_path = \"/content/drive/MyDrive/results_csv/\"\n",
        "feature = \"angles_right_arm\""
      ]
    },
    {
      "cell_type": "code",
      "execution_count": null,
      "metadata": {
        "id": "8UO7RGNGr8rp"
      },
      "outputs": [],
      "source": [
        "#carregar dataset de todos os videos\n",
        "def load_dataset(csv_path, feature, janela, stride):\n",
        "  X, Y = [], []\n",
        "  for label in (\"correct\", \"incorrect\"):\n",
        "    results_path = os.path.join(csv_path, label) #\"/content/drive/MyDrive/results_csv/correct ou incorrect\"\n",
        "    for results_name in os.listdir(results_path): #correct_01.csv etc...\n",
        "      df = pd.read_csv(os.path.join(results_path, results_name))\n",
        "      times_series = time_series_window_embedding(df[feature].values, window=janela, stride=stride)\n",
        "      for t in times_series: # Para cada times_series, armazena o vetor e o rótulo\n",
        "        X.append(t)       # t é array shape=(janela,)\n",
        "        Y.append(0 if label==\"incorrect\" else 1) #rotula 1 correto 0 incorreto\n",
        "\n",
        "  X = np.vstack(X)          # shape = (n_videos, janela)\n",
        "  y = np.array(Y)           # shape = (n_videos,)\n",
        "  return X, Y"
      ]
    },
    {
      "cell_type": "code",
      "execution_count": null,
      "metadata": {
        "id": "LdzCL0Vr7Wmy"
      },
      "outputs": [],
      "source": [
        "X, Y = load_dataset(csv_path, feature, janela=2**8, stride=2)"
      ]
    },
    {
      "cell_type": "code",
      "execution_count": null,
      "metadata": {
        "id": "KSLtNY8971mg"
      },
      "outputs": [],
      "source": [
        "# Treinamento com Decision Tree Classifier\n",
        "def train_clf (X, Y):\n",
        "  TEST_SIZE = 0.20\n",
        "  X_train, X_test, y_train, y_test = train_test_split(X, Y,test_size=TEST_SIZE, random_state=42,stratify=Y)\n",
        "  #X_train, X_val, y_train, y_val = train_test_split(X_trainval, y_trainval,test_size=0.125, random_state=42,stratify=y_trainval) #test_size = 0.125 * 0.80 = 0.10 do total\n",
        "  print(f\"Total: {X.shape[0]} amostras\")\n",
        "\n",
        "  # hiperparâmetros da arvore de decisão\n",
        "  param_grid = {\"criterion\":[\"gini\", \"entropy\"],\"max_depth\":[None,3, 5, 10], \"min_samples_split\": [2, 5, 10]} # \"min_samples_leaf\": [1,5,10]\n",
        "\n",
        "  # GridSearchCV para testar os hiperparamentros da arvore\n",
        "  grid = GridSearchCV(DecisionTreeClassifier(random_state=42), param_grid, scoring=\"accuracy\", cv=5, n_jobs=-1, verbose=1)\n",
        "  grid.fit(X_train, y_train)\n",
        "\n",
        "  #clf = DecisionTreeClassifier(random_state = 42) #chama o classificador\n",
        "  #clf = clf.fit(X_train, y_train)\n",
        "  best = grid.best_estimator_\n",
        "  print(\"Melhores parâmetros:\", grid.best_params_)\n",
        "  print(\"Acurácia média (CV):\", grid.best_score_)\n",
        "\n",
        "  # teste final\n",
        "  y_pred = best.predict(X_test)\n",
        "  print(\"Acurácia:\", best.score(X_test, y_test))\n",
        "  print(\"\\nRelatório de classificação Teste:\\n\", classification_report(y_test, y_pred))\n",
        "  print(\"\\nMatriz de confusão Teste:\\n\", confusion_matrix(y_test, y_pred))"
      ]
    },
    {
      "cell_type": "code",
      "execution_count": null,
      "metadata": {
        "colab": {
          "base_uri": "https://localhost:8080/"
        },
        "id": "AHs7p2Ng9eBb",
        "outputId": "e223cac5-f764-455a-c688-f44ca81df0ee"
      },
      "outputs": [
        {
          "name": "stdout",
          "output_type": "stream",
          "text": [
            "Total: 35191 amostras\n",
            "Fitting 5 folds for each of 24 candidates, totalling 120 fits\n",
            "Melhores parâmetros: {'criterion': 'entropy', 'max_depth': 10, 'min_samples_split': 10}\n",
            "Acurácia média (CV): 0.9512291542662368\n",
            "Acurácia: 0.9538286688450064\n",
            "\n",
            "Relatório de classificação Teste:\n",
            "               precision    recall  f1-score   support\n",
            "\n",
            "           0       0.98      0.90      0.94      2763\n",
            "           1       0.94      0.99      0.96      4276\n",
            "\n",
            "    accuracy                           0.95      7039\n",
            "   macro avg       0.96      0.94      0.95      7039\n",
            "weighted avg       0.96      0.95      0.95      7039\n",
            "\n",
            "\n",
            "Matriz de confusão Teste:\n",
            " [[2483  280]\n",
            " [  45 4231]]\n"
          ]
        }
      ],
      "source": [
        "train_clf(X,Y)"
      ]
    },
    {
      "cell_type": "code",
      "execution_count": null,
      "metadata": {
        "id": "sQfjk4p0Jcq3"
      },
      "outputs": [],
      "source": [
        "# Treinamento com XGBoost\n",
        "def train_xgboost (X, Y):\n",
        "  TEST_SIZE = 0.20\n",
        "  X_train, X_test, y_train, y_test = train_test_split(X, Y,test_size=TEST_SIZE, random_state=42,stratify=Y)\n",
        "  # hiperparâmetros do XGBoost\n",
        "  param_grid = {\"max_depth\":[3, 5, 10],\"learning_rate\":[0.001, 0.01, 0.1],\"subsample\":[0.5, 0.7, 1]}\n",
        "  # GridSearchCV para testar os hiperparamentros\n",
        "  grid = GridSearchCV(XGBClassifier(use_label_encoder=False, eval_metric=\"logloss\", random_state=42),param_grid,cv=5,scoring=\"accuracy\",n_jobs=-1,verbose=1)\n",
        "  grid.fit(X_train, y_train)\n",
        "\n",
        "  best = grid.best_estimator_\n",
        "  print(\"Melhores parâmetros:\", grid.best_params_)\n",
        "  print(\"Acurácia média (CV):\", grid.best_score_)\n",
        "\n",
        "  #teste final\n",
        "  y_pred = best.predict(X_test)\n",
        "  print(\"Acurácia:\", best.score(X_test, y_test))\n",
        "  print(\"\\nRelatório de classificação Teste:\\n\", classification_report(y_test, y_pred))\n",
        "  print(\"\\nMatriz de confusão Teste:\\n\", confusion_matrix(y_test, y_pred))"
      ]
    },
    {
      "cell_type": "code",
      "execution_count": null,
      "metadata": {
        "colab": {
          "base_uri": "https://localhost:8080/"
        },
        "id": "EmpGUXRiaW0y",
        "outputId": "b5a4d527-70a9-4841-ac04-1dbd5da08a54"
      },
      "outputs": [
        {
          "name": "stdout",
          "output_type": "stream",
          "text": [
            "Fitting 5 folds for each of 27 candidates, totalling 135 fits\n",
            "Melhores parâmetros: {'learning_rate': 0.1, 'max_depth': 10, 'subsample': 1}\n",
            "Acurácia média (CV): 0.9736786748565492\n",
            "=== Teste Final ===\n",
            "Acurácia no teste: 0.9761\n",
            "\n",
            "Relatório de classificação:\n",
            "               precision    recall  f1-score   support\n",
            "\n",
            "           0       1.00      0.94      0.97      2763\n",
            "           1       0.96      1.00      0.98      4276\n",
            "\n",
            "    accuracy                           0.98      7039\n",
            "   macro avg       0.98      0.97      0.97      7039\n",
            "weighted avg       0.98      0.98      0.98      7039\n",
            "\n",
            "Matriz de confusão:\n",
            " [[2601  162]\n",
            " [   6 4270]]\n"
          ]
        }
      ],
      "source": [
        "train_xgboost(X,Y)"
      ]
    }
  ],
  "metadata": {
    "accelerator": "GPU",
    "colab": {
      "collapsed_sections": [
        "Yj3uOwvnOgBG",
        "pfhyB6Iagjc8",
        "Fn8TywicOTri",
        "W1YRTVjIxLHD",
        "-L73ZffybBBN"
      ],
      "gpuType": "T4",
      "provenance": [],
      "toc_visible": true
    },
    "kernelspec": {
      "display_name": "Python 3",
      "name": "python3"
    },
    "language_info": {
      "name": "python"
    }
  },
  "nbformat": 4,
  "nbformat_minor": 0
}
